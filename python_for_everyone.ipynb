{
 "cells": [
  {
   "cell_type": "markdown",
   "metadata": {},
   "source": [
    "<h1 align=\"center\" style=\"background-color:#306998;color:#FFD43B;font-size:64px;font-family:sans;padding:20px\">Python for Everyone<h1>"
   ]
  },
  {
   "cell_type": "markdown",
   "metadata": {},
   "source": [
    "<h1 align=\"center\"  style = \"color:#306998,text-align:center\">Introduction</h1>\n",
    "\n",
    "Python for Everyon is a step by step guide to learn Python and programming in general. ***Python For Everyone*** is a guide for both beginners and advanced Python developers. Welcome to *Python For Everyone*. \n",
    "\n",
    "***Congratulations*** for deciding to learn Python. Python is eating the world. It has been the choice for developers to use python for different puprpose specifically to deal with data.\n",
    "\n",
    "In this step by step guide, you will learn Pyton. Python is one of the most popular programming language. \n",
    "You use Python ***to develop web applicaton***, ***to develop mobile apps***, ***desktop applications, games*** and mostly Python is use for ***data Sciecne***, ***machine learning*** and ***AI***.\n",
    "***Python*** has increased in popularity in recent years and has been the leading\n",
    "programming language for data science and machine language."
   ]
  },
  {
   "cell_type": "markdown",
   "metadata": {},
   "source": [
    "<h1 align=\"center\"  style = \"color:#306998\">Set up</h1>\n",
    "\n",
    "First install [Python](https://www.python.org/downloads/).\n",
    "To write python code, we need to have a code editor. Lets install text or code editor. There are many open source code editors which can help you to write python code. These are the most commonly used ones:\n",
    "- [Jupter Note book](https://www.anaconda.com/distribution/)\n",
    "- [vscode](https://code.visualstudio.com/)\n",
    "- [pycharm](https://www.jetbrains.com/pycharm/)\n",
    "- [atom](https://atom.io/)\n",
    "- [notepad++](https://notepad-plus-plus.org/) or others.\n",
    "\n",
    "Jupter Notebook is highly recommended. You can use jupter note book by installing [anaconda](https://www.anaconda.com/distribution/). Anaconda is the most popular Python/R platform which allow you to use different development tools and making package installing so simple.\n"
   ]
  },
  {
   "cell_type": "markdown",
   "metadata": {},
   "source": [
    "<h1 align=\"center\"  style = \"color:#306998>Comment in Python</h1>\n",
    "\n",
    "Comment is essential to make code readable to ourselves or for others. Commented part of our code is not interperated by Python interperator."
   ]
  },
  {
   "cell_type": "code",
   "execution_count": 174,
   "metadata": {},
   "outputs": [],
   "source": [
    "# This is a single line comment"
   ]
  },
  {
   "cell_type": "markdown",
   "metadata": {},
   "source": [
    "#### Exerciese:\n",
    "- Write your first python comment\n",
    "- Write an other more python comment\n",
    "- Write you third pyhon comment\n",
    "- Write a comment which says I am exited to learn Python Programming.\n",
    "- Write a comment which says It is recommended to add a comment at the beginning of a code\n"
   ]
  },
  {
   "cell_type": "markdown",
   "metadata": {},
   "source": [
    "<h1 align=\"center\"  style = \"color:#306998\"> Printing in Python</h1>"
   ]
  },
  {
   "cell_type": "code",
   "execution_count": 175,
   "metadata": {},
   "outputs": [
    {
     "name": "stdout",
     "output_type": "stream",
     "text": [
      "Hello, World!\n",
      "Hello, World !\n",
      "Welcome to Python!\n",
      "Learn python in 2019\n",
      "Welcome to Python for Everyone\n",
      "Welcome to Python for Everyone\n"
     ]
    }
   ],
   "source": [
    "# Printing in Python\n",
    "print('Hello, World!')\n",
    "print('Hello,', \"World\", \"!\")\n",
    "print(\"Welcome to Python!\")\n",
    "print('Learn python in', 2019)\n",
    "print('Welcome to Python for Everyone')\n",
    "print('Welcome','to', 'Python','for','Everyone')\n"
   ]
  },
  {
   "cell_type": "markdown",
   "metadata": {},
   "source": [
    "#### Exerciese:\n",
    "\n",
    "1. Writ a python comment saying 'How to print using print () at beginning of your code'\n",
    "2. Print your first name using ***print()***\n",
    "3. Print your last name using ***print ()***\n",
    "4. Print your full name using ***print ()***\n",
    "5. Print your country using ***print()***\n",
    "6. Print your city using ***print()***\n",
    "7. Print your age using ***print ()***\n",
    "8. Print the year using ***print()***\n",
    "9. Print your qualification or your job using I***print()***\n",
    "10. Are you single or married ? Answer should be True or False. Print the answer using ***print()***\n"
   ]
  },
  {
   "cell_type": "markdown",
   "metadata": {},
   "source": [
    "<h1 align=\"center\"  style = \"color:#306998\"> Variables</h1>\n",
    "\n",
    "Variables are containers or a means to store data in computer memory. pneumonic varialbes recommend to use in many programming langauges. \n",
    "\n",
    "Valid variable names\n",
    "```shell\n",
    "    firstname\n",
    "    lastname\n",
    "    age\n",
    "    country\n",
    "    city\n",
    "    first_name\n",
    "    last_name\n",
    "    capital_city\n",
    "    _firstname\n",
    "    first_name\n",
    "    num1\n",
    "    num2\n",
    "```\n",
    "\n",
    "Invalid varaible names\n",
    "- first-name\n",
    "- num-1\n",
    "- 1num"
   ]
  },
  {
   "cell_type": "code",
   "execution_count": 176,
   "metadata": {},
   "outputs": [
    {
     "name": "stdout",
     "output_type": "stream",
     "text": [
      "First name: Asabeneh\n",
      "Last name:  Yetayeh\n",
      "Country:  Helsinki\n",
      "Age:  250\n",
      "Married:  True\n"
     ]
    }
   ],
   "source": [
    "# Variables in Python\n",
    "\n",
    "first_name = \"Asabeneh\"\n",
    "last_name = \"Yetayeh\"\n",
    "country = \"Helsinki\"\n",
    "age = 250\n",
    "is_married = True\n",
    "# Printing the values stored in the variables\n",
    "print('First name:', first_name)\n",
    "print('Last name: ', last_name)\n",
    "print('Country: ', country)\n",
    "print('Age: ', age)\n",
    "print('Married: ', is_married)"
   ]
  },
  {
   "cell_type": "markdown",
   "metadata": {},
   "source": [
    "Variable can also be declared in one line:"
   ]
  },
  {
   "cell_type": "code",
   "execution_count": 177,
   "metadata": {},
   "outputs": [
    {
     "name": "stdout",
     "output_type": "stream",
     "text": [
      "Asabeneh Yetayeh Helsink 250 True\n",
      "First name: Asabeneh\n",
      "Last name:  Yetayeh\n",
      "Country:  Helsink\n",
      "Age:  250\n",
      "Married:  True\n"
     ]
    }
   ],
   "source": [
    "first_name, last_name, country, age, is_married = 'Asabeneh', 'Yetayeh', 'Helsink', 250, True\n",
    "print(first_name, last_name, country, age, is_married)\n",
    "print('First name:', first_name)\n",
    "print('Last name: ', last_name)\n",
    "print('Country: ', country)\n",
    "print('Age: ', age)\n",
    "print('Married: ', is_married)"
   ]
  },
  {
   "cell_type": "markdown",
   "metadata": {},
   "source": [
    "#### Exerciese: Variables\n",
    "1. Writ a python comment saying 'Variables in python'\n",
    "2. Declare a first name variable and assign a value to it\n",
    "3. Declare a last name variable and assign a value to it\n",
    "4. Declare a full name variable and assign a value to it\n",
    "5. Declare a country variable and assign a value to it\n",
    "6. Declare a city variable and assign a value to it\n",
    "7. Declare an age varialbel and assign a value to it\n",
    "8. Declare a year varaible and assign  a value to it\n",
    "9. Declare a variable is_married and assign a value to it\n",
    "10. Declare a variable is_true and assign a value to it\n",
    "11. Declare a variable is_light_on and assign a value to it\n",
    "12. Declare multiple variable on one line"
   ]
  },
  {
   "cell_type": "markdown",
   "metadata": {},
   "source": [
    "<h1 align=\"center\"  style = \"color:#306998,text-align:center\">Python Data types</h1>\n",
    "\n",
    "Different data types in python. There are different data type in python programming. To identify the data tpe we use the type method."
   ]
  },
  {
   "cell_type": "code",
   "execution_count": 178,
   "metadata": {},
   "outputs": [
    {
     "name": "stdout",
     "output_type": "stream",
     "text": [
      "<class 'str'>\n",
      "<class 'str'>\n",
      "<class 'int'>\n",
      "<class 'float'>\n",
      "<class 'complex'>\n",
      "<class 'bool'>\n",
      "<class 'list'>\n",
      "<class 'dict'>\n",
      "<class 'tuple'>\n",
      "<class 'zip'>\n"
     ]
    }
   ],
   "source": [
    "# Different python data types\n",
    "# Let's declare different data tyeps\n",
    "\n",
    "first_name = 'Asabeneh' # String\n",
    "last_name = 'Yetayeh' # String\n",
    "country = 'Finland' # String\n",
    "city= 'Helsinki'\n",
    "age = 250 # Number, it is not my real age, don't worry about it\n",
    "\n",
    "print(type('Asabeneh'))\n",
    "print(type(first_name))\n",
    "print(type(10))\n",
    "print(type(3.14))\n",
    "print(type(1 + 1j))\n",
    "print(type(True))\n",
    "print(type([1, 2,3,4]))\n",
    "print(type({\"name\":\"Asabeneh\",\"age\":250, \"is_married\":250}))\n",
    "print(type((1,2)))\n",
    "print(type(zip([1,2],[3,4])))"
   ]
  },
  {
   "cell_type": "markdown",
   "metadata": {},
   "source": [
    "#### Exerciese: Data Types\n",
    "\n",
    "1. Writ a python comment saying 'Python Data types'\n",
    "2. Declare a first name variable and assign a value to it\n",
    "3. Declare a last name variable and assign a value to it\n",
    "4. Declare an age varialbel and assign a value to it\n",
    "5. Declare a full name variable and assign a value to it\n",
    "6. Declare a country variable and assign a value to it\n",
    "7. Declare a city variable and assign a value to it\n",
    "8. Declare a variable is_married and assign a value to it\n",
    "9. Declare a variable is_true and assign a value to it\n",
    "10. Declare a variable is_light_on and assign a value to it\n",
    "11. Check the data types of each variable using type()"
   ]
  },
  {
   "cell_type": "markdown",
   "metadata": {},
   "source": [
    "##  Numbers\n",
    "1. Integers\n",
    "2. Floating Numbers\n",
    "3. Complex Numbers\n",
    "\n",
    "Numbers are python data types. \n",
    "Arthimetic Operators: +, -, *, /"
   ]
  },
  {
   "cell_type": "code",
   "execution_count": 179,
   "metadata": {},
   "outputs": [
    {
     "name": "stdout",
     "output_type": "stream",
     "text": [
      "Additon:  3\n",
      "Substraction:  1\n",
      "Multiplication:  6\n",
      "Division:  2.0\n",
      "Division:  3.0\n",
      "Division:  3.5\n",
      "Division without the remainder:  3\n",
      "Modulous:  1\n",
      "Division without the remainder:  2\n",
      "Exponentation:  9\n",
      "Floating Number 3.14\n",
      "Complex number:  (1+1j)\n",
      "Multiplying complext number:  (2+0j)\n",
      "== Additon, Subtraction, Multipliation, Division, Modules ==\n",
      "sum:  7\n",
      "difference:  1\n",
      "product:  12\n",
      "division:  1.0\n",
      "remainder:  1\n",
      "735.75 N\n"
     ]
    }
   ],
   "source": [
    "# Arthimetic Operations in Python\n",
    "# Integers\n",
    "\n",
    "print('Additon: ', 1 + 2)\n",
    "print('Substraction: ', 2 - 1)\n",
    "print('Multiplication: ', 2 * 3)\n",
    "print ('Division: ', 4 / 2) # Division in python gives floating number\n",
    "print('Division: ', 6 / 2)\n",
    "print('Division: ', 7 / 2)\n",
    "print('Division without the remainder: ', 7 // 2) # gives without the floating number or without the remaining\n",
    "print('Modulous: ', 3 % 2)\n",
    "print ('Division without the remainder: ',7 // 3)\n",
    "print('Exponentation: ', 3 ** 2)\n",
    "# Floating numbers\n",
    "print('Floating Number', 3.14)\n",
    "# Complex numbers\n",
    "print('Complex number: ', 1+1j)\n",
    "print('Multiplying complext number: ',(1+1j) * (1-1j))\n",
    "\n",
    "\n",
    "print('== Additon, Subtraction, Multipliation, Division, Modules ==')\n",
    "\n",
    "num_one = 3\n",
    "num_two = 4\n",
    "\n",
    "total = num_one + num_two\n",
    "diff = num_two - num_one\n",
    "product = num_one * num_two\n",
    "div = num_two / num_two\n",
    "remainder = num_two % num_one\n",
    "\n",
    "\n",
    "print('sum: ', total)\n",
    "print('difference: ', diff)\n",
    "print('product: ', product)\n",
    "print('division: ', div)\n",
    "print('remainder: ', remainder)\n",
    "\n",
    "mass = 75\n",
    "gravity = 9.81\n",
    "# Calcualte the wieght of the object on planet earth\n",
    "weight = mass * gravity\n",
    "\n",
    "print(weight, 'N')"
   ]
  },
  {
   "cell_type": "markdown",
   "metadata": {},
   "source": [
    "#### Exerciese: Numbers\n",
    "\n",
    "1. Declare your age as integer variable\n",
    "2. Declare your height as a float variable\n",
    "3. Declare a complex number variable\n",
    "4. Calcaulate an area of a triangle (area = 0.5 x  b x h)\n",
    "5. Calaculate the primeter of triangle (p = a + b + c)\n",
    "6. Calaculate the of area rectangle (area = lenght x width)\n",
    "7. Calaculate the primeter of rectangle (p = 2 x (length + width))\n",
    "8. Calculate the area of a circle (area = 3.14 x r x r)\n",
    "9. Calculate the circumference of a circle(c = 2 x pi x r)\n",
    "10. Calculate the value of y (y = x2 + 6x + 9). Try to use different x value and figure out at what x value y is 0."
   ]
  },
  {
   "cell_type": "markdown",
   "metadata": {
    "collapsed": true
   },
   "source": [
    "## Strings\n",
    "String is data type. Any data under single or double quot are a string. There are diferent string methods to deal with string data types. To check the length of a string use the ***len()*** method."
   ]
  },
  {
   "cell_type": "code",
   "execution_count": 180,
   "metadata": {},
   "outputs": [
    {
     "name": "stdout",
     "output_type": "stream",
     "text": [
      "Asabeneh\n",
      "8\n",
      "Yetayeh\n",
      "7\n",
      "Helsinki\n",
      " \n",
      " Asabeneh Yetayeh\n"
     ]
    }
   ],
   "source": [
    "# Assigning variables to string value\n",
    "\n",
    "first_name = \"Asabeneh\"\n",
    "space = ' ' # an empty space string\n",
    "last_name = \"Yetayeh\"\n",
    "country = \"Helsinki\"\n",
    "full_name = ' Asabeneh Yetayeh'\n",
    "\n",
    "print(first_name)\n",
    "print(len(first_name))\n",
    "print(last_name)\n",
    "print(len(last_name))\n",
    "print(country)\n",
    "print(space)  # You don't see the printed empty space\n",
    "print(full_name) # there is indent because of the trailing space in the full name is string\n"
   ]
  },
  {
   "cell_type": "markdown",
   "metadata": {},
   "source": [
    "### String Concatination\n",
    "Merging two or more strings together is called ***concatination***"
   ]
  },
  {
   "cell_type": "code",
   "execution_count": 181,
   "metadata": {},
   "outputs": [
    {
     "name": "stdout",
     "output_type": "stream",
     "text": [
      "Full name:  Asabeneh Yetayeh\n",
      "Person Information: I am Asabeneh Yetayeh. I live in Finland, Helsinki.\n",
      "Git repository:  Python  for  Everyone\n"
     ]
    }
   ],
   "source": [
    "\n",
    "# String concatination\n",
    "first_name = \"Asabeneh\"\n",
    "space = ' ' # an empty space string\n",
    "last_name = \"Yetayeh\"\n",
    "country = \"Finland\"\n",
    "city = 'Helsinki'\n",
    "full_name = first_name  + space + last_name\n",
    "git_repo= 'Python ' + ' for ' + ' Everyone'\n",
    "person_info = 'I am ' + full_name + '. I live in ' + country + ', '+ city + '.'\n",
    "print('Full name: ', full_name)\n",
    "print('Person Information:', person_info)\n",
    "print('Git repository: ', git_repo)\n",
    "\n"
   ]
  },
  {
   "cell_type": "markdown",
   "metadata": {},
   "source": [
    "###  String transformations\n",
    "\n",
    "- ***s.lower()***:  Change all letters to lowercase\n",
    "- ***s.upper()***:  Change all letters to uppercase\n",
    "- ***s.capitalize()***: Change all letters to capitalcase\n",
    "- ***s.title()***: Change to titlecase\n",
    "- ***s.swapcase()***: Change all uppercase letters to lowercase, and vice versa"
   ]
  },
  {
   "cell_type": "code",
   "execution_count": 182,
   "metadata": {},
   "outputs": [
    {
     "name": "stdout",
     "output_type": "stream",
     "text": [
      "=== change to lower case ===\n",
      "asabeneh\n",
      "yetayeh\n",
      "asabeneh yetayeh\n",
      "=== change to upper case ===\n",
      "ASABENEH\n",
      "YETAYEH\n",
      "ASABENEH YETAYEH\n",
      "=== change to capitalize ===\n",
      "Asabeneh\n",
      "Yetayeh\n",
      "Asabeneh yetayeh\n",
      "=== change to title ===\n",
      "Python For Everyone\n",
      "Learning Programming Using Python\n",
      "Python\n",
      "Both Begineer And Advanced Learners\n",
      "=== swapping cases ===\n",
      "asabeeh\n",
      "YETAYEH\n",
      "asabeeh YETAYEH\n"
     ]
    }
   ],
   "source": [
    "firstName = 'Asabeneh'\n",
    "lastName = 'Yetayeh'\n",
    "space = ' '\n",
    "full_Name = first_name + space + last_name;\n",
    "\n",
    "# Changing string to lower case\n",
    "print('=== change to lower case ===')\n",
    "print(first_name.lower())\n",
    "print(last_name.lower())\n",
    "print(full_Name.lower())\n",
    "\n",
    "# Changing string to upper case\n",
    "print('=== change to upper case ===')\n",
    "print(first_name.upper())\n",
    "print(lastName.upper())\n",
    "print(full_Name.upper())\n",
    "\n",
    "\n",
    "# Changing string to capitalize\n",
    "print('=== change to capitalize ===')\n",
    "print(first_name.capitalize())\n",
    "print(lastName.capitalize())\n",
    "print(full_Name.capitalize())\n",
    "\n",
    "# Changing string to capitalize\n",
    "\n",
    "print('=== change to title ===')\n",
    "title = 'python for everyone'\n",
    "sub_title = 'learning programming using python'\n",
    "lang = 'python'\n",
    "level = 'both begineer and advanced learners'\n",
    "print(title.title())\n",
    "print(sub_title.title())\n",
    "print(lang.title())\n",
    "print(level.title())\n",
    "\n",
    "# Changing string to swapcase()\n",
    "print('=== swapping cases ===')\n",
    "\n",
    "first_name = 'ASABEEH'\n",
    "last_name = 'yetayeh'\n",
    "space = ' '\n",
    "full_name = first_name + space + last_name;\n",
    "\n",
    "print(first_name.swapcase())\n",
    "print(last_name.swapcase())\n",
    "print(full_name.swapcase())\n",
    "\n",
    "\n",
    "\n"
   ]
  },
  {
   "cell_type": "markdown",
   "metadata": {},
   "source": [
    "### Spliting string\n",
    "\n",
    "Empty space is the default paramter. \n",
    "\n",
    "- ***s.split()***:  Change the string to a list containing the string\n",
    "- ***s.split(' ')***:Change the string to a list containing the words of in the string\n",
    "- ***s.split(',')***: split the words at the comma\n"
   ]
  },
  {
   "cell_type": "code",
   "execution_count": 183,
   "metadata": {},
   "outputs": [
    {
     "name": "stdout",
     "output_type": "stream",
     "text": [
      "['Asabeneh']\n",
      "['A', 's', 'a', 'b', 'e', 'n', 'e', 'h']\n",
      "['Asabeneh', 'Yetayeh']\n",
      "['python', ' R', ' matlab', ' and Java']\n",
      "8\n",
      "<class 'str'>\n"
     ]
    }
   ],
   "source": [
    "# Spliting a stirng to list\n",
    "first_name = 'Asabeneh'\n",
    "last_name = 'Yetayeh'\n",
    "full_name = 'Asabeneh Yetayeh'\n",
    "\n",
    "programming_lang = 'python, R, matlab, and Java'\n",
    "\n",
    "\n",
    "# Changing a string to list\n",
    "print(first_name.split())\n",
    "print(list(first_name))\n",
    "print(full_name.split(' '))\n",
    "print(programming_lang.split(','))\n",
    "\n",
    "\n",
    "# To check the length of string\n",
    "print(len(first_name))\n",
    "\n",
    "# To check the data type of the string\n",
    "print(type(first_name))"
   ]
  },
  {
   "cell_type": "markdown",
   "metadata": {},
   "source": [
    "#### String Formatting"
   ]
  },
  {
   "cell_type": "code",
   "execution_count": null,
   "metadata": {},
   "outputs": [],
   "source": []
  },
  {
   "cell_type": "markdown",
   "metadata": {},
   "source": [
    "##  Booleans\n",
    "A boolean value is either True or False.\n",
    "\n",
    "- Comparison operatiors: >, >=, <, <=, ==, !=\n",
    "- Logical Operators ***or***, ***and***, !"
   ]
  },
  {
   "cell_type": "markdown",
   "metadata": {},
   "source": [
    "<h1 align=\"center\"  style = \"color:#306998,text-align:center\">Conditionals </h1>"
   ]
  },
  {
   "cell_type": "code",
   "execution_count": 184,
   "metadata": {},
   "outputs": [
    {
     "name": "stdout",
     "output_type": "stream",
     "text": [
      "True == True:  True\n",
      "True == False:  False\n",
      "False == False: True\n",
      "True and True:  True\n",
      "True or False: True\n",
      "a in an: True\n",
      "4 is 2 ** 2: True\n",
      "True\n",
      "True\n",
      "True\n",
      "False\n",
      "False\n",
      "False\n",
      "True\n",
      "True\n"
     ]
    }
   ],
   "source": [
    "# Comparing something give either a True or False\n",
    "print('True == True: ', True == True)\n",
    "print('True == False: ', True == False)\n",
    "print('False == False:', False == False)\n",
    "print('True and True: ', True and True)\n",
    "print('True or False:', True or False)\n",
    "print('a in an:', 'a' in 'an')\n",
    "print('4 is 2 ** 2:', 4 is 2 **2)\n",
    "\n",
    "print(3 > 2)\n",
    "print(3 >= 2)\n",
    "print(3 != 2)\n",
    "print(3 < 2)\n",
    "print(3 <= 2)\n",
    "print(3==2)\n",
    "print(3!='3')\n",
    "print(3==3)"
   ]
  },
  {
   "cell_type": "code",
   "execution_count": 185,
   "metadata": {},
   "outputs": [
    {
     "name": "stdout",
     "output_type": "stream",
     "text": [
      "Number is greater than 5\n",
      "Number is greater than 5\n",
      "Number is 5\n"
     ]
    }
   ],
   "source": [
    "num = 10\n",
    "if num > 5:\n",
    "    print('Number is greater than 5')\n",
    "# The is conditon does't get exected so we need else\n",
    "if num < 5:\n",
    "    print('Number is less than 5')\n",
    "\n",
    "if num < 5:\n",
    "    print('Number is less than 5')\n",
    "else:\n",
    "    print('Number is greater than 5')\n",
    "    \n",
    "num = 5\n",
    "if num < 5:\n",
    "    print('Number is less than 5')\n",
    "elif num == 5:\n",
    "    print('Number is 5')\n",
    "else:\n",
    "    print('Number is greater than 5')\n",
    "\n",
    "\n"
   ]
  },
  {
   "cell_type": "markdown",
   "metadata": {},
   "source": [
    "<h1 align=\"center\"  style = \"color:#306998,text-align:center\">Loops</h1>"
   ]
  },
  {
   "cell_type": "markdown",
   "metadata": {},
   "source": [
    "### For loops:"
   ]
  },
  {
   "cell_type": "code",
   "execution_count": 186,
   "metadata": {},
   "outputs": [
    {
     "name": "stdout",
     "output_type": "stream",
     "text": [
      "=== Whole Numbers===\n",
      "0\n",
      "1\n",
      "2\n",
      "3\n",
      "4\n",
      "5\n",
      "6\n",
      "7\n",
      "8\n",
      "9\n",
      "10\n",
      "=== Even Numbers===\n",
      "0\n",
      "2\n",
      "4\n",
      "6\n",
      "8\n",
      "10\n",
      "=== Odd Numbers===\n",
      "1\n",
      "3\n",
      "5\n",
      "7\n",
      "9\n"
     ]
    }
   ],
   "source": [
    "print('=== Whole Numbers===')\n",
    "for x in range(11):\n",
    "    print(x)\n",
    "\n",
    "print('=== Even Numbers===')\n",
    "# the range(initial, stop, step)\n",
    "for n in range(0, 11, 2):\n",
    "    print(n)\n",
    "    \n",
    "print('=== Odd Numbers===')\n",
    "# the range(initial, stop, step)\n",
    "for n in range(1, 11, 2):\n",
    "    print(n)\n"
   ]
  },
  {
   "cell_type": "markdown",
   "metadata": {},
   "source": [
    "### Continue and break in for loop"
   ]
  },
  {
   "cell_type": "code",
   "execution_count": 187,
   "metadata": {},
   "outputs": [
    {
     "name": "stdout",
     "output_type": "stream",
     "text": [
      "0\n",
      "2\n",
      "3\n",
      "4\n",
      "5\n"
     ]
    }
   ],
   "source": [
    "for x in range(10):\n",
    "    if (x is 1):\n",
    "        continue\n",
    "    if (x > 5):\n",
    "        break\n",
    "    print(x)"
   ]
  },
  {
   "cell_type": "markdown",
   "metadata": {},
   "source": [
    "### While Loop\n"
   ]
  },
  {
   "cell_type": "code",
   "execution_count": 188,
   "metadata": {},
   "outputs": [
    {
     "name": "stdout",
     "output_type": "stream",
     "text": [
      "0\n",
      "1\n",
      "2\n",
      "3\n",
      "4\n",
      "5\n",
      "6\n",
      "7\n",
      "8\n",
      "9\n"
     ]
    }
   ],
   "source": [
    "x = 0\n",
    "while (x < 10):\n",
    "    print(x)\n",
    "    x += 1"
   ]
  },
  {
   "cell_type": "markdown",
   "metadata": {},
   "source": [
    "## Getting user input using ***input***"
   ]
  },
  {
   "cell_type": "code",
   "execution_count": 242,
   "metadata": {},
   "outputs": [
    {
     "name": "stdout",
     "output_type": "stream",
     "text": [
      "What is your name ?Asabeneh\n",
      "How old are you ?250\n",
      "Asabeneh , you are old enough\n"
     ]
    }
   ],
   "source": [
    "name = input('What is your name ?')\n",
    "age = int(input('How old are you ?'))\n",
    "\n",
    "if age < 18:\n",
    "    print(name,' you are under age')\n",
    "else:\n",
    "    print(name, ', you are old enough')"
   ]
  },
  {
   "cell_type": "markdown",
   "metadata": {},
   "source": [
    "\n",
    "# Lists\n",
    "Lists are like arrays in JavaScript. They store different elements unlike other varialbles. List has different methods to modify and manipulate the list. Some of the methods which are used to modiyf lists **append**, **insert**, **extend**."
   ]
  },
  {
   "cell_type": "markdown",
   "metadata": {},
   "source": [
    "## Creating an empty list or list containing values"
   ]
  },
  {
   "cell_type": "code",
   "execution_count": 243,
   "metadata": {},
   "outputs": [
    {
     "name": "stdout",
     "output_type": "stream",
     "text": [
      "<class 'list'>\n",
      "[]\n",
      "[1, 2, 3, 4, 5, 6]\n",
      "[0, 1, 2, 3, 4, 5, 6, 7, 8, 9, 10]\n",
      "[0, 2, 4, 6, 8, 10, 12, 14, 16, 18, 20, 22, 24, 26, 28, 30, 32, 34, 36, 38, 40, 42, 44, 46, 48, 50]\n",
      "['Asabeneh', 'Brook', 'Sami', 'David']\n",
      "['Google', 'Facebook', 'Nokia', 'Apple', 'Oracle', 'Amazon', 'IBM']\n",
      "[3.14, 9.81, 98.6, 100]\n"
     ]
    }
   ],
   "source": [
    "# Creating lists\n",
    "lst = [] # empty list\n",
    "print(list)\n",
    "lst = list() # empty list\n",
    "print(lst)\n",
    "numbers = [1, 2, 3, 4, 5, 6] # creating list 1 to 6\n",
    "print(numbers)\n",
    "one_to_hunderd = list(range(11)) # creating list 1 to 10\n",
    "even_numbers = list(range(0,51, 2)) # Create even number lists 0 to 50\n",
    "print(one_to_hunderd)\n",
    "print(even_numbers)\n",
    "\n",
    "names = ['Asabeneh','Brook','Sami','David']\n",
    "print(names)\n",
    "it_companies = ['Google','Facebook','Nokia','Apple','Oracle','Amazon','IBM']\n",
    "print(it_companies)\n",
    "constants = [3.14, 9.81, 98.6, 100]\n",
    "print(constants)\n",
    "\n"
   ]
  },
  {
   "cell_type": "code",
   "execution_count": 244,
   "metadata": {},
   "outputs": [
    {
     "name": "stdout",
     "output_type": "stream",
     "text": [
      "1\n",
      "is odd\n",
      "2\n",
      "is even\n",
      "3\n",
      "is odd\n",
      "4\n",
      "is even\n",
      "5\n",
      "is odd\n",
      "6\n",
      "is even\n",
      "All done.\n"
     ]
    }
   ],
   "source": [
    "for number in numbers:\n",
    "    print(number)\n",
    "    if (number % 2 == 0):\n",
    "        print(\"is even\")\n",
    "    else:\n",
    "        print(\"is odd\")\n",
    "        \n",
    "print (\"All done.\")"
   ]
  },
  {
   "cell_type": "markdown",
   "metadata": {},
   "source": [
    "## Appending value  to lists"
   ]
  },
  {
   "cell_type": "markdown",
   "metadata": {},
   "source": [
    "Using different methods to manipulate lists. Slicing using :, appending, extending and inserting:"
   ]
  },
  {
   "cell_type": "code",
   "execution_count": 245,
   "metadata": {},
   "outputs": [
    {
     "name": "stdout",
     "output_type": "stream",
     "text": [
      "6\n"
     ]
    }
   ],
   "source": [
    "# First lets create a list\n",
    "x = [1, 2, 3, 4, 5, 6]\n",
    "print(len(x)) # to check the length of the list"
   ]
  },
  {
   "cell_type": "code",
   "execution_count": 246,
   "metadata": {},
   "outputs": [
    {
     "data": {
      "text/plain": [
       "[1, 2, 3, 4, 5, 6, 8, 9]"
      ]
     },
     "execution_count": 246,
     "metadata": {},
     "output_type": "execute_result"
    }
   ],
   "source": [
    "x.append(8)\n",
    "x.append(9)\n",
    "x"
   ]
  },
  {
   "cell_type": "markdown",
   "metadata": {},
   "source": [
    "##  Inserting value among values in a list\n",
    "Inserting a value at a certain index"
   ]
  },
  {
   "cell_type": "code",
   "execution_count": 247,
   "metadata": {},
   "outputs": [
    {
     "data": {
      "text/plain": [
       "[1, 2, 3, 4, 5, 6, 7, 8, 9]"
      ]
     },
     "execution_count": 247,
     "metadata": {},
     "output_type": "execute_result"
    }
   ],
   "source": [
    "x.insert(6,7) # the missing value in the list which is 7 is inserted\n",
    "x"
   ]
  },
  {
   "cell_type": "markdown",
   "metadata": {},
   "source": [
    "##  Use extend to two or more arrays together"
   ]
  },
  {
   "cell_type": "code",
   "execution_count": 248,
   "metadata": {},
   "outputs": [
    {
     "data": {
      "text/plain": [
       "[1, 2, 3, 4, 5, 6, 7, 8, 9, 9, 10]"
      ]
     },
     "execution_count": 248,
     "metadata": {},
     "output_type": "execute_result"
    }
   ],
   "source": [
    "x.extend([9,10])\n",
    "x"
   ]
  },
  {
   "cell_type": "markdown",
   "metadata": {},
   "source": [
    "## Slicing"
   ]
  },
  {
   "cell_type": "code",
   "execution_count": 249,
   "metadata": {},
   "outputs": [
    {
     "data": {
      "text/plain": [
       "[1, 2, 3]"
      ]
     },
     "execution_count": 249,
     "metadata": {},
     "output_type": "execute_result"
    }
   ],
   "source": [
    "x[:3]\n"
   ]
  },
  {
   "cell_type": "code",
   "execution_count": 250,
   "metadata": {},
   "outputs": [
    {
     "data": {
      "text/plain": [
       "[4, 5, 6, 7, 8, 9, 9, 10]"
      ]
     },
     "execution_count": 250,
     "metadata": {},
     "output_type": "execute_result"
    }
   ],
   "source": [
    "x[3:]\n"
   ]
  },
  {
   "cell_type": "code",
   "execution_count": 251,
   "metadata": {},
   "outputs": [
    {
     "data": {
      "text/plain": [
       "[9, 10]"
      ]
     },
     "execution_count": 251,
     "metadata": {},
     "output_type": "execute_result"
    }
   ],
   "source": [
    "x[-2:]\n"
   ]
  },
  {
   "cell_type": "markdown",
   "metadata": {},
   "source": [
    "##  Concating lists (Merging)"
   ]
  },
  {
   "cell_type": "code",
   "execution_count": 252,
   "metadata": {},
   "outputs": [
    {
     "name": "stdout",
     "output_type": "stream",
     "text": [
      "[1, 2, 3, 4, 5, 6]\n"
     ]
    }
   ],
   "source": [
    "a = [1, 2,3]\n",
    "b = [4, 5,6]\n",
    "c = a + b\n",
    "print(c)\n"
   ]
  },
  {
   "cell_type": "markdown",
   "metadata": {},
   "source": [
    "List of lists"
   ]
  },
  {
   "cell_type": "code",
   "execution_count": 253,
   "metadata": {},
   "outputs": [
    {
     "name": "stdout",
     "output_type": "stream",
     "text": [
      "[[1, 2, 3], [4, 5, 6]]\n"
     ]
    }
   ],
   "source": [
    "x = [1, 2,3]\n",
    "y = [4, 5,6];\n",
    "z = [x, y]\n",
    "print(z)\n"
   ]
  },
  {
   "cell_type": "code",
   "execution_count": 254,
   "metadata": {},
   "outputs": [
    {
     "name": "stdout",
     "output_type": "stream",
     "text": [
      "1\n",
      "[1, 2, 3]\n",
      "1\n",
      "[4, 5, 6]\n",
      "4\n"
     ]
    }
   ],
   "source": [
    "print(x[0])\n",
    "print(z[0])\n",
    "print(z[0][0])\n",
    "print(z[1])\n",
    "print(z[1][0])\n"
   ]
  },
  {
   "cell_type": "code",
   "execution_count": 255,
   "metadata": {},
   "outputs": [
    {
     "data": {
      "text/plain": [
       "[1, 2, 3]"
      ]
     },
     "execution_count": 255,
     "metadata": {},
     "output_type": "execute_result"
    }
   ],
   "source": [
    "z = [3, 2, 1]\n",
    "z.sort()\n",
    "z"
   ]
  },
  {
   "cell_type": "code",
   "execution_count": 256,
   "metadata": {},
   "outputs": [
    {
     "data": {
      "text/plain": [
       "[3, 2, 1]"
      ]
     },
     "execution_count": 256,
     "metadata": {},
     "output_type": "execute_result"
    }
   ],
   "source": [
    "z.sort(reverse=True)\n",
    "z"
   ]
  },
  {
   "cell_type": "markdown",
   "metadata": {},
   "source": [
    "## Sort vs Sorted in list"
   ]
  },
  {
   "cell_type": "code",
   "execution_count": 257,
   "metadata": {},
   "outputs": [
    {
     "name": "stdout",
     "output_type": "stream",
     "text": [
      "[1, 2, 3, 4, 5]\n",
      "None\n",
      "[3, 1, 4, 2, 5]\n",
      "[1, 2, 3, 4, 5]\n"
     ]
    }
   ],
   "source": [
    "nums_one = [3,1,4,2,5]\n",
    "nums_sort =nums_one.sort() # mutate the original list and return None\n",
    "print(nums_one)\n",
    "print(nums_sort) # return None\n",
    "nums_two = [3,1,4,2,5]\n",
    "nums_sorted = sorted(nums_two) # mutate the original list\n",
    "print(nums_two)\n",
    "print(nums_sorted)"
   ]
  },
  {
   "cell_type": "markdown",
   "metadata": {},
   "source": [
    "## Getting index of a list using enumerate"
   ]
  },
  {
   "cell_type": "code",
   "execution_count": 258,
   "metadata": {},
   "outputs": [
    {
     "name": "stdout",
     "output_type": "stream",
     "text": [
      "index: 0 2\n",
      "index: 1 4\n",
      "index: 2 6\n",
      "index: 3 8\n",
      "index: 4 10\n"
     ]
    }
   ],
   "source": [
    "even_nums = [2,4,6,8,10]\n",
    "for i, n in enumerate(evens):\n",
    "    print('index:',i, n)"
   ]
  },
  {
   "cell_type": "code",
   "execution_count": 259,
   "metadata": {},
   "outputs": [
    {
     "name": "stdout",
     "output_type": "stream",
     "text": [
      "index: 0 0\n",
      "index: 1 1\n",
      "index: 2 2\n",
      "index: 3 3\n",
      "index: 4 4\n",
      "index: 5 5\n",
      "index: 6 6\n",
      "index: 7 7\n",
      "index: 8 8\n",
      "index: 9 9\n"
     ]
    }
   ],
   "source": [
    "for i, n in enumerate(range (10)):\n",
    "    print('index:',i, n)"
   ]
  },
  {
   "cell_type": "code",
   "execution_count": 260,
   "metadata": {},
   "outputs": [],
   "source": [
    "(name, age) = ['Asabeneh', 250]"
   ]
  },
  {
   "cell_type": "code",
   "execution_count": 261,
   "metadata": {},
   "outputs": [
    {
     "name": "stdout",
     "output_type": "stream",
     "text": [
      "Asabeneh 250\n"
     ]
    }
   ],
   "source": [
    "print(name, age)"
   ]
  },
  {
   "cell_type": "markdown",
   "metadata": {},
   "source": [
    "## List Comprehension"
   ]
  },
  {
   "cell_type": "code",
   "execution_count": 262,
   "metadata": {},
   "outputs": [
    {
     "data": {
      "text/plain": [
       "[0, 1, 2, 3, 4, 5, 6, 7, 8, 9, 10]"
      ]
     },
     "execution_count": 262,
     "metadata": {},
     "output_type": "execute_result"
    }
   ],
   "source": [
    "[i  for i in range (11)] # list of whole numbers"
   ]
  },
  {
   "cell_type": "code",
   "execution_count": 263,
   "metadata": {},
   "outputs": [
    {
     "data": {
      "text/plain": [
       "[0, 1, 4, 9, 16, 25, 36, 49, 64, 81, 100]"
      ]
     },
     "execution_count": 263,
     "metadata": {},
     "output_type": "execute_result"
    }
   ],
   "source": [
    "[i * i for i in range (11)] # List of squares "
   ]
  },
  {
   "cell_type": "code",
   "execution_count": 264,
   "metadata": {},
   "outputs": [
    {
     "name": "stdout",
     "output_type": "stream",
     "text": [
      "[0, 2, 4, 6, 8, 10, 12, 14, 16, 18, 20, 22, 24, 26, 28, 30, 32, 34, 36, 38, 40, 42, 44, 46, 48, 50]\n"
     ]
    }
   ],
   "source": [
    "even_nums = [i for i in range(51) if i % 2 == 0] # List of even numbers\n",
    "print(even_nums)"
   ]
  },
  {
   "cell_type": "code",
   "execution_count": 265,
   "metadata": {},
   "outputs": [
    {
     "name": "stdout",
     "output_type": "stream",
     "text": [
      "[1, 3, 5, 7, 9, 11, 13, 15, 17, 19, 21, 23, 25, 27, 29, 31, 33, 35, 37, 39, 41, 43, 45, 47, 49]\n"
     ]
    }
   ],
   "source": [
    "odds = [i for i in range(51) if i % 2 != 0] # List of odd numbers\n",
    "print(odds)"
   ]
  },
  {
   "cell_type": "code",
   "execution_count": 266,
   "metadata": {},
   "outputs": [
    {
     "data": {
      "text/plain": [
       "[1, 4, 9, 16, 25]"
      ]
     },
     "execution_count": 266,
     "metadata": {},
     "output_type": "execute_result"
    }
   ],
   "source": [
    "numbers = [1, 2, 3,4,5]\n",
    "[n * n for n in numbers]  # maping using list comprehension\n"
   ]
  },
  {
   "cell_type": "code",
   "execution_count": 267,
   "metadata": {},
   "outputs": [
    {
     "data": {
      "text/plain": [
       "['ASABENEH', 'BROOK', 'DAVID', 'MARTHA']"
      ]
     },
     "execution_count": 267,
     "metadata": {},
     "output_type": "execute_result"
    }
   ],
   "source": [
    "\n",
    "names = ['Asabeneh','Brook','David','Martha']\n",
    "[name.upper () for name in names] # Mapping using list comprehension"
   ]
  },
  {
   "cell_type": "code",
   "execution_count": 268,
   "metadata": {},
   "outputs": [
    {
     "data": {
      "text/plain": [
       "[2, 4, 6]"
      ]
     },
     "execution_count": 268,
     "metadata": {},
     "output_type": "execute_result"
    }
   ],
   "source": [
    "numbers = [-4, -3, -2, -1, 0, 2, 4, 6]\n",
    "[n for n in numbers if n > 0] # Filtering using list comprehension"
   ]
  },
  {
   "cell_type": "markdown",
   "metadata": {},
   "source": [
    "##  Tuples\n",
    "###  Creating Tuples"
   ]
  },
  {
   "cell_type": "code",
   "execution_count": 269,
   "metadata": {},
   "outputs": [
    {
     "name": "stdout",
     "output_type": "stream",
     "text": [
      "<class 'tuple'>\n",
      "<class 'tuple'>\n",
      "(1, 2, 3)\n"
     ]
    },
    {
     "data": {
      "text/plain": [
       "3"
      ]
     },
     "execution_count": 269,
     "metadata": {},
     "output_type": "execute_result"
    }
   ],
   "source": [
    "#Tuples are just immutable lists. Use () instead of []\n",
    "tp = tuple()\n",
    "print(type (tp))\n",
    "tp = ()\n",
    "print(type(tp))\n",
    "nums = (1, 2, 3)\n",
    "print(nums)\n",
    "len(nums)"
   ]
  },
  {
   "cell_type": "code",
   "execution_count": 270,
   "metadata": {},
   "outputs": [
    {
     "name": "stdout",
     "output_type": "stream",
     "text": [
      "1\n",
      "2\n",
      "3\n"
     ]
    }
   ],
   "source": [
    "for n in nums:\n",
    "    print(n)"
   ]
  },
  {
   "cell_type": "code",
   "execution_count": 271,
   "metadata": {},
   "outputs": [
    {
     "name": "stdout",
     "output_type": "stream",
     "text": [
      "1\n"
     ]
    },
    {
     "data": {
      "text/plain": [
       "4"
      ]
     },
     "execution_count": 271,
     "metadata": {},
     "output_type": "execute_result"
    }
   ],
   "source": [
    "x = (1, 2, 3)\n",
    "y = (4, 5, 6)\n",
    "print(x[0])\n",
    "y[0]"
   ]
  },
  {
   "cell_type": "code",
   "execution_count": 272,
   "metadata": {},
   "outputs": [
    {
     "data": {
      "text/plain": [
       "[(1, 2, 3), (4, 5, 6)]"
      ]
     },
     "execution_count": 272,
     "metadata": {},
     "output_type": "execute_result"
    }
   ],
   "source": [
    "list_of_tuples = [x, y]\n",
    "list_of_tuples"
   ]
  },
  {
   "cell_type": "code",
   "execution_count": 273,
   "metadata": {},
   "outputs": [
    {
     "name": "stdout",
     "output_type": "stream",
     "text": [
      "32\n",
      "120000\n"
     ]
    }
   ],
   "source": [
    "(age, income) = \"32,120000\".split(',')\n",
    "print(age)\n",
    "print(income)"
   ]
  },
  {
   "cell_type": "code",
   "execution_count": 274,
   "metadata": {},
   "outputs": [
    {
     "data": {
      "text/plain": [
       "[(1, 1), (2, 4), (3, 9), (4, 16), (5, 25)]"
      ]
     },
     "execution_count": 274,
     "metadata": {},
     "output_type": "execute_result"
    }
   ],
   "source": [
    "numbers = [1, 2, 3,4,5]\n",
    "[(n,n * n) for n in numbers]  # maping using list comprehension\n"
   ]
  },
  {
   "cell_type": "code",
   "execution_count": 275,
   "metadata": {},
   "outputs": [
    {
     "data": {
      "text/plain": [
       "[('ASABENEH', 8), ('BROOK', 5), ('DAVID', 5), ('MARTHA', 6)]"
      ]
     },
     "execution_count": 275,
     "metadata": {},
     "output_type": "execute_result"
    }
   ],
   "source": [
    "names = ['Asabeneh','Brook','David','Martha']\n",
    "[(name.upper (), len(name)) for name in names] # Mapping using list comprehension"
   ]
  },
  {
   "cell_type": "markdown",
   "metadata": {},
   "source": [
    "## Dictionaries"
   ]
  },
  {
   "cell_type": "code",
   "execution_count": 276,
   "metadata": {},
   "outputs": [
    {
     "name": "stdout",
     "output_type": "stream",
     "text": [
      "{'name': 'Asabenh', 'age': 250, 'country': 'Finland', 'city': 'Helsinki', 'job': 'instructor and developer', 'skills': ['HTML', 'CSS', 'JavaScript', 'Python', 'Node'], 'is_married': True}\n",
      "7\n"
     ]
    }
   ],
   "source": [
    "# Creating empty dictionary\n",
    "\n",
    "dic = dict()\n",
    "dic = {}\n",
    "\n",
    "# Another more dictionary\n",
    "person = {\n",
    "    'name':'Asabenh',\n",
    "    'age':250, \n",
    "    'country':'Finland',\n",
    "    'city':'Helsinki', \n",
    "    'job':'instructor and developer',\n",
    "    'skills':['HTML','CSS','JavaScript','Python','Node'],\n",
    "    'is_married':True\n",
    "}\n",
    "print(person)\n",
    "print(len(person))\n"
   ]
  },
  {
   "cell_type": "code",
   "execution_count": 277,
   "metadata": {},
   "outputs": [
    {
     "name": "stdout",
     "output_type": "stream",
     "text": [
      "{'name': 'Asabenh', 'age': 250, 'country': 'Finland', 'city': 'Helsinki', 'job': 'instructor and developer', 'skills': ['HTML', 'CSS', 'JavaScript', 'Python', 'Node'], 'is_married': True}\n"
     ]
    }
   ],
   "source": [
    "print(person)"
   ]
  },
  {
   "cell_type": "code",
   "execution_count": 278,
   "metadata": {},
   "outputs": [
    {
     "name": "stdout",
     "output_type": "stream",
     "text": [
      "Asabenh\n"
     ]
    }
   ],
   "source": [
    "print(person[\"name\"])"
   ]
  },
  {
   "cell_type": "code",
   "execution_count": 279,
   "metadata": {},
   "outputs": [
    {
     "name": "stdout",
     "output_type": "stream",
     "text": [
      "250\n"
     ]
    }
   ],
   "source": [
    "print(person[\"age\"])"
   ]
  },
  {
   "cell_type": "code",
   "execution_count": 280,
   "metadata": {},
   "outputs": [
    {
     "name": "stdout",
     "output_type": "stream",
     "text": [
      "True\n"
     ]
    }
   ],
   "source": [
    "print(person.get(\"is_married\"))"
   ]
  },
  {
   "cell_type": "code",
   "execution_count": 281,
   "metadata": {},
   "outputs": [
    {
     "name": "stdout",
     "output_type": "stream",
     "text": [
      "name: Asabenh\n",
      "age: 250\n",
      "country: Finland\n",
      "city: Helsinki\n",
      "job: instructor and developer\n",
      "skills: ['HTML', 'CSS', 'JavaScript', 'Python', 'Node']\n",
      "is_married: True\n"
     ]
    }
   ],
   "source": [
    "for key in person:\n",
    "        print(key + \": \" + str(person[key]))\n"
   ]
  },
  {
   "cell_type": "markdown",
   "metadata": {},
   "source": [
    "### Dictionary Methods\n",
    "**keys**, **values**, **items**"
   ]
  },
  {
   "cell_type": "code",
   "execution_count": 282,
   "metadata": {},
   "outputs": [
    {
     "name": "stdout",
     "output_type": "stream",
     "text": [
      "dict_keys(['name', 'age', 'country', 'city', 'job', 'skills', 'is_married'])\n",
      "dict_values(['Asabenh', 250, 'Finland', 'Helsinki', 'instructor and developer', ['HTML', 'CSS', 'JavaScript', 'Python', 'Node'], True])\n",
      "dict_items([('name', 'Asabenh'), ('age', 250), ('country', 'Finland'), ('city', 'Helsinki'), ('job', 'instructor and developer'), ('skills', ['HTML', 'CSS', 'JavaScript', 'Python', 'Node']), ('is_married', True)])\n"
     ]
    }
   ],
   "source": [
    "keys = person.keys()\n",
    "values = person.values()\n",
    "items = person.items()\n",
    "\n",
    "print(keys)\n",
    "print(values)\n",
    "print(items)"
   ]
  },
  {
   "cell_type": "code",
   "execution_count": 283,
   "metadata": {},
   "outputs": [
    {
     "name": "stdout",
     "output_type": "stream",
     "text": [
      "name : Asabenh\n",
      "age : 250\n",
      "country : Finland\n",
      "city : Helsinki\n",
      "job : instructor and developer\n",
      "skills : ['HTML', 'CSS', 'JavaScript', 'Python', 'Node']\n",
      "is_married : True\n"
     ]
    }
   ],
   "source": [
    "for k, v in items:\n",
    "    print(k,':', v)"
   ]
  },
  {
   "cell_type": "code",
   "execution_count": 284,
   "metadata": {},
   "outputs": [
    {
     "data": {
      "text/plain": [
       "[{1: 1}, {2: 4}, {3: 9}, {4: 16}, {5: 25}]"
      ]
     },
     "execution_count": 284,
     "metadata": {},
     "output_type": "execute_result"
    }
   ],
   "source": [
    "numbers = [1, 2, 3,4,5]\n",
    "[{n:n * n} for n in numbers]  # maping using list comprehension"
   ]
  },
  {
   "cell_type": "code",
   "execution_count": 285,
   "metadata": {},
   "outputs": [
    {
     "data": {
      "text/plain": [
       "[{'Asabeneh': 8}, {'Brook': 5}, {'David': 5}, {'Martha': 6}]"
      ]
     },
     "execution_count": 285,
     "metadata": {},
     "output_type": "execute_result"
    }
   ],
   "source": [
    "names = ['Asabeneh','Brook','David','Martha']\n",
    "[{name:len(name)} for name in names] # Mapping using list comprehension"
   ]
  },
  {
   "cell_type": "markdown",
   "metadata": {},
   "source": [
    "<h1 align=\"center\"  style = \"color:#306998,text-align:center\"> Set </h1>\n",
    "\n",
    "Creating a set"
   ]
  },
  {
   "cell_type": "code",
   "execution_count": 286,
   "metadata": {},
   "outputs": [
    {
     "name": "stdout",
     "output_type": "stream",
     "text": [
      "{1, 2, 3, 4, 5}\n",
      "5\n",
      "{1, 2, 3, 4, 5, 6, 7}\n",
      "7\n",
      "1\n",
      "2\n",
      "3\n",
      "4\n",
      "5\n",
      "6\n",
      "7\n"
     ]
    }
   ],
   "source": [
    "s = set()\n",
    "s.add(1) # adding value to a set\n",
    "s.add(2)\n",
    "s.add(3)\n",
    "s.add(4)\n",
    "s.add(5)\n",
    "print(s)\n",
    "print(len(s))\n",
    "\n",
    "nums = [1, 2,2,3,4,5,4,6,7,6]\n",
    "numbers = set(nums)\n",
    "print(numbers)\n",
    "print(len(numbers))\n",
    "for n in numbers:\n",
    "    print(n)\n"
   ]
  },
  {
   "cell_type": "markdown",
   "metadata": {},
   "source": [
    "<h1 align=\"center\"  style = \"color:#306998,text-align:center\"> Functions</h1>"
   ]
  },
  {
   "cell_type": "code",
   "execution_count": 287,
   "metadata": {},
   "outputs": [
    {
     "name": "stdout",
     "output_type": "stream",
     "text": [
      "10\n"
     ]
    }
   ],
   "source": [
    "def sum_two_numbers (num_one, num_two):\n",
    "    sum = num_one + num_two\n",
    "    return sum\n",
    "print(sum_two_numbers(1, 9))"
   ]
  },
  {
   "cell_type": "code",
   "execution_count": 288,
   "metadata": {},
   "outputs": [
    {
     "name": "stdout",
     "output_type": "stream",
     "text": [
      "4\n"
     ]
    }
   ],
   "source": [
    "def square_number(x):\n",
    "    return x * x\n",
    "\n",
    "print(square_number(2))\n"
   ]
  },
  {
   "cell_type": "code",
   "execution_count": 289,
   "metadata": {},
   "outputs": [
    {
     "name": "stdout",
     "output_type": "stream",
     "text": [
      "9\n"
     ]
    }
   ],
   "source": [
    "#You can pass functions around as parameters\n",
    "def do_something(f, x):\n",
    "    return f(x)\n",
    "\n",
    "print(do_something(square_number, 3))"
   ]
  },
  {
   "cell_type": "code",
   "execution_count": 290,
   "metadata": {},
   "outputs": [
    {
     "name": "stdout",
     "output_type": "stream",
     "text": [
      "27\n"
     ]
    }
   ],
   "source": [
    "#Lambda functions let you inline simple functions\n",
    "print(do_something(lambda x: x * x * x, 3))"
   ]
  },
  {
   "cell_type": "code",
   "execution_count": null,
   "metadata": {},
   "outputs": [],
   "source": []
  },
  {
   "cell_type": "markdown",
   "metadata": {},
   "source": [
    "## Importing Modules"
   ]
  },
  {
   "cell_type": "code",
   "execution_count": 291,
   "metadata": {},
   "outputs": [
    {
     "name": "stdout",
     "output_type": "stream",
     "text": [
      "[27.88608357 23.11774755 31.04189588 20.48481983 30.50618958 29.71853994\n",
      " 24.70956114 26.54680012 20.88724631 24.50554159]\n"
     ]
    }
   ],
   "source": [
    "import numpy as np\n",
    "\n",
    "A = np.random.normal(25, 5.0, 10)\n",
    "print (A)"
   ]
  },
  {
   "cell_type": "markdown",
   "metadata": {},
   "source": [
    "## Challenges"
   ]
  },
  {
   "cell_type": "markdown",
   "metadata": {},
   "source": [
    "Write python comment\n",
    "Declare different varaibles\n",
    "Check different data tyypes\n",
    "Concatinate strings\n",
    "Write some code that creates a list of integers, \n",
    "loops through each element of the list, \n",
    "and only prints out even numbers!"
   ]
  },
  {
   "cell_type": "code",
   "execution_count": 292,
   "metadata": {},
   "outputs": [
    {
     "name": "stdout",
     "output_type": "stream",
     "text": [
      "[0, 1, 2, 3, 4, 5, 6, 7, 8, 9, 10, 11, 12, 13, 14, 15, 16, 17, 18, 19, 20, 21, 22, 23, 24, 25, 26, 27, 28, 29, 30, 31, 32, 33, 34, 35, 36, 37, 38, 39, 40, 41, 42, 43, 44, 45, 46, 47, 48, 49, 50, 51, 52, 53, 54, 55, 56, 57, 58, 59, 60, 61, 62, 63, 64, 65, 66, 67, 68, 69, 70, 71, 72, 73, 74, 75, 76, 77, 78, 79, 80, 81, 82, 83, 84, 85, 86, 87, 88, 89, 90, 91, 92, 93, 94, 95, 96, 97, 98, 99]\n"
     ]
    }
   ],
   "source": [
    "list_nums = range(100);\n",
    "print(list(list_nums))"
   ]
  },
  {
   "cell_type": "code",
   "execution_count": 293,
   "metadata": {},
   "outputs": [],
   "source": [
    "def sum_of_evens_and_sum_of_odds (n):\n",
    "    numbers = range(n)\n",
    "    evens_sum = 0;\n",
    "    odds_sum = 0;\n",
    "    for n in numbers:\n",
    "        if n % 2 == 0 :\n",
    "            evens_sum = evens_sum + n\n",
    "        else:\n",
    "            odds_sum = odds_sum + n;\n",
    "    return [evens_sum, odds_sum]\n"
   ]
  },
  {
   "cell_type": "code",
   "execution_count": 294,
   "metadata": {},
   "outputs": [
    {
     "data": {
      "text/plain": [
       "[2550, 2500]"
      ]
     },
     "execution_count": 294,
     "metadata": {},
     "output_type": "execute_result"
    }
   ],
   "source": [
    "sum_of_evens_and_sum_of_odds(101)"
   ]
  }
 ],
 "metadata": {
  "kernelspec": {
   "display_name": "Python 3",
   "language": "python",
   "name": "python3"
  },
  "language_info": {
   "codemirror_mode": {
    "name": "ipython",
    "version": 3
   },
   "file_extension": ".py",
   "mimetype": "text/x-python",
   "name": "python",
   "nbconvert_exporter": "python",
   "pygments_lexer": "ipython3",
   "version": "3.7.3"
  }
 },
 "nbformat": 4,
 "nbformat_minor": 1
}
